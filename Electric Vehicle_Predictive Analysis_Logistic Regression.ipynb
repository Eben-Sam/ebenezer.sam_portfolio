{
 "cells": [
  {
   "cell_type": "code",
   "execution_count": 1,
   "id": "5dd4832f-fe53-44f7-9e97-68f11408b323",
   "metadata": {},
   "outputs": [],
   "source": [
    "import pandas as pd"
   ]
  },
  {
   "cell_type": "code",
   "execution_count": 2,
   "id": "954cf617-d799-4f23-86f7-291798a8f8f4",
   "metadata": {},
   "outputs": [
    {
     "name": "stdout",
     "output_type": "stream",
     "text": [
      "Requirement already satisfied: pandas in c:\\users\\samde\\anaconda3\\lib\\site-packages (2.1.4)\n",
      "Requirement already satisfied: numpy<2,>=1.23.2 in c:\\users\\samde\\anaconda3\\lib\\site-packages (from pandas) (1.26.4)\n",
      "Requirement already satisfied: python-dateutil>=2.8.2 in c:\\users\\samde\\anaconda3\\lib\\site-packages (from pandas) (2.8.2)\n",
      "Requirement already satisfied: pytz>=2020.1 in c:\\users\\samde\\anaconda3\\lib\\site-packages (from pandas) (2023.3.post1)\n",
      "Requirement already satisfied: tzdata>=2022.1 in c:\\users\\samde\\anaconda3\\lib\\site-packages (from pandas) (2023.3)\n",
      "Requirement already satisfied: six>=1.5 in c:\\users\\samde\\anaconda3\\lib\\site-packages (from python-dateutil>=2.8.2->pandas) (1.16.0)\n"
     ]
    }
   ],
   "source": [
    "!pip install pandas"
   ]
  },
  {
   "cell_type": "code",
   "execution_count": 3,
   "id": "21030916-d601-4f26-b175-59e4f7293259",
   "metadata": {},
   "outputs": [
    {
     "data": {
      "text/html": [
       "<div>\n",
       "<style scoped>\n",
       "    .dataframe tbody tr th:only-of-type {\n",
       "        vertical-align: middle;\n",
       "    }\n",
       "\n",
       "    .dataframe tbody tr th {\n",
       "        vertical-align: top;\n",
       "    }\n",
       "\n",
       "    .dataframe thead th {\n",
       "        text-align: right;\n",
       "    }\n",
       "</style>\n",
       "<table border=\"1\" class=\"dataframe\">\n",
       "  <thead>\n",
       "    <tr style=\"text-align: right;\">\n",
       "      <th></th>\n",
       "      <th>Gender</th>\n",
       "      <th>Age_Range</th>\n",
       "      <th>Education_Level</th>\n",
       "      <th>Location</th>\n",
       "      <th>Country</th>\n",
       "      <th>Heard_of_EC</th>\n",
       "      <th>Someone_Owns</th>\n",
       "      <th>Self_Own_EC</th>\n",
       "      <th>Satisfied_Experience</th>\n",
       "      <th>Displace_Normal_Cars</th>\n",
       "      <th>...</th>\n",
       "      <th>Consider_Government_Incentives</th>\n",
       "      <th>Consider_Model</th>\n",
       "      <th>Consider_Charging_Time</th>\n",
       "      <th>Reduction_Greenhouse_Positive</th>\n",
       "      <th>Reduction_Fossil_Positive</th>\n",
       "      <th>Lower_Cost_Positive</th>\n",
       "      <th>Range_Charging_Barrier</th>\n",
       "      <th>Upfront_Cost_Barrier</th>\n",
       "      <th>Gov_Offer_Incentives</th>\n",
       "      <th>Gov_Set_Emissions</th>\n",
       "    </tr>\n",
       "  </thead>\n",
       "  <tbody>\n",
       "    <tr>\n",
       "      <th>0</th>\n",
       "      <td>Male</td>\n",
       "      <td>51-61</td>\n",
       "      <td>Master's Degree or Higher</td>\n",
       "      <td>Shanghai</td>\n",
       "      <td>China</td>\n",
       "      <td>Yes</td>\n",
       "      <td>Yes</td>\n",
       "      <td>Yes</td>\n",
       "      <td>Very Satisfied</td>\n",
       "      <td>Agree</td>\n",
       "      <td>...</td>\n",
       "      <td>Somewhat Agree</td>\n",
       "      <td>Neither Agree nor Disagree</td>\n",
       "      <td>Strongly Agree</td>\n",
       "      <td>Agree</td>\n",
       "      <td>Somewhat Agree</td>\n",
       "      <td>Agree</td>\n",
       "      <td>Strongly Agree</td>\n",
       "      <td>Somewhat Agree</td>\n",
       "      <td>Strongly Agree</td>\n",
       "      <td>Disagree</td>\n",
       "    </tr>\n",
       "    <tr>\n",
       "      <th>1</th>\n",
       "      <td>Male</td>\n",
       "      <td>29-39</td>\n",
       "      <td>Bachelor's Degree</td>\n",
       "      <td>Guangzhou, china</td>\n",
       "      <td>China</td>\n",
       "      <td>Yes</td>\n",
       "      <td>Yes</td>\n",
       "      <td>No</td>\n",
       "      <td>Not Applicable</td>\n",
       "      <td>Strongly Agree</td>\n",
       "      <td>...</td>\n",
       "      <td>Strongly Agree</td>\n",
       "      <td>Agree</td>\n",
       "      <td>Agree</td>\n",
       "      <td>Agree</td>\n",
       "      <td>Agree</td>\n",
       "      <td>Agree</td>\n",
       "      <td>Agree</td>\n",
       "      <td>Disagree</td>\n",
       "      <td>Agree</td>\n",
       "      <td>Disagree</td>\n",
       "    </tr>\n",
       "    <tr>\n",
       "      <th>2</th>\n",
       "      <td>Male</td>\n",
       "      <td>29-39</td>\n",
       "      <td>Bachelor's Degree</td>\n",
       "      <td>China</td>\n",
       "      <td>China</td>\n",
       "      <td>Yes</td>\n",
       "      <td>Yes</td>\n",
       "      <td>No</td>\n",
       "      <td>Not Applicable</td>\n",
       "      <td>Somewhat Agree</td>\n",
       "      <td>...</td>\n",
       "      <td>Agree</td>\n",
       "      <td>Agree</td>\n",
       "      <td>Agree</td>\n",
       "      <td>Agree</td>\n",
       "      <td>Agree</td>\n",
       "      <td>Agree</td>\n",
       "      <td>Agree</td>\n",
       "      <td>Disagree</td>\n",
       "      <td>Disagree</td>\n",
       "      <td>Agree</td>\n",
       "    </tr>\n",
       "    <tr>\n",
       "      <th>3</th>\n",
       "      <td>Male</td>\n",
       "      <td>29-39</td>\n",
       "      <td>Master's Degree or Higher</td>\n",
       "      <td>Shanghai</td>\n",
       "      <td>China</td>\n",
       "      <td>Yes</td>\n",
       "      <td>Yes</td>\n",
       "      <td>No</td>\n",
       "      <td>Not Applicable</td>\n",
       "      <td>Neither Agree nor Disagree</td>\n",
       "      <td>...</td>\n",
       "      <td>Agree</td>\n",
       "      <td>Strongly Agree</td>\n",
       "      <td>Somewhat Agree</td>\n",
       "      <td>Neither Agree nor Disagree</td>\n",
       "      <td>Strongly Disagree</td>\n",
       "      <td>Strongly Disagree</td>\n",
       "      <td>Strongly Disagree</td>\n",
       "      <td>Neither Agree nor Disagree</td>\n",
       "      <td>Strongly Agree</td>\n",
       "      <td>Neither Agree nor Disagree</td>\n",
       "    </tr>\n",
       "    <tr>\n",
       "      <th>4</th>\n",
       "      <td>Female</td>\n",
       "      <td>29-39</td>\n",
       "      <td>Bachelor's Degree</td>\n",
       "      <td>chIna</td>\n",
       "      <td>China</td>\n",
       "      <td>Yes</td>\n",
       "      <td>Yes</td>\n",
       "      <td>Yes</td>\n",
       "      <td>Satisfied</td>\n",
       "      <td>Strongly Agree</td>\n",
       "      <td>...</td>\n",
       "      <td>Strongly Agree</td>\n",
       "      <td>Agree</td>\n",
       "      <td>Agree</td>\n",
       "      <td>Agree</td>\n",
       "      <td>Agree</td>\n",
       "      <td>Agree</td>\n",
       "      <td>Agree</td>\n",
       "      <td>Agree</td>\n",
       "      <td>Agree</td>\n",
       "      <td>Agree</td>\n",
       "    </tr>\n",
       "    <tr>\n",
       "      <th>...</th>\n",
       "      <td>...</td>\n",
       "      <td>...</td>\n",
       "      <td>...</td>\n",
       "      <td>...</td>\n",
       "      <td>...</td>\n",
       "      <td>...</td>\n",
       "      <td>...</td>\n",
       "      <td>...</td>\n",
       "      <td>...</td>\n",
       "      <td>...</td>\n",
       "      <td>...</td>\n",
       "      <td>...</td>\n",
       "      <td>...</td>\n",
       "      <td>...</td>\n",
       "      <td>...</td>\n",
       "      <td>...</td>\n",
       "      <td>...</td>\n",
       "      <td>...</td>\n",
       "      <td>...</td>\n",
       "      <td>...</td>\n",
       "      <td>...</td>\n",
       "    </tr>\n",
       "    <tr>\n",
       "      <th>225</th>\n",
       "      <td>Male</td>\n",
       "      <td>18-28</td>\n",
       "      <td>Secondary School</td>\n",
       "      <td>Accra</td>\n",
       "      <td>Ghana</td>\n",
       "      <td>Yes</td>\n",
       "      <td>No</td>\n",
       "      <td>No</td>\n",
       "      <td>Not Applicable</td>\n",
       "      <td>Agree</td>\n",
       "      <td>...</td>\n",
       "      <td>Agree</td>\n",
       "      <td>Agree</td>\n",
       "      <td>Agree</td>\n",
       "      <td>Agree</td>\n",
       "      <td>Agree</td>\n",
       "      <td>Agree</td>\n",
       "      <td>Agree</td>\n",
       "      <td>Agree</td>\n",
       "      <td>Agree</td>\n",
       "      <td>Somewhat Agree</td>\n",
       "    </tr>\n",
       "    <tr>\n",
       "      <th>226</th>\n",
       "      <td>Female</td>\n",
       "      <td>18-28</td>\n",
       "      <td>Secondary School</td>\n",
       "      <td>Kumasi</td>\n",
       "      <td>Ghana</td>\n",
       "      <td>Yes</td>\n",
       "      <td>No</td>\n",
       "      <td>No</td>\n",
       "      <td>Not Applicable</td>\n",
       "      <td>Somewhat Agree</td>\n",
       "      <td>...</td>\n",
       "      <td>Strongly Agree</td>\n",
       "      <td>Agree</td>\n",
       "      <td>Strongly Agree</td>\n",
       "      <td>Strongly Agree</td>\n",
       "      <td>Strongly Agree</td>\n",
       "      <td>Somewhat Disagree</td>\n",
       "      <td>Strongly Agree</td>\n",
       "      <td>Strongly Agree</td>\n",
       "      <td>Agree</td>\n",
       "      <td>Agree</td>\n",
       "    </tr>\n",
       "    <tr>\n",
       "      <th>227</th>\n",
       "      <td>Male</td>\n",
       "      <td>29-39</td>\n",
       "      <td>College or Vocational Training</td>\n",
       "      <td>Accra</td>\n",
       "      <td>Ghana</td>\n",
       "      <td>Yes</td>\n",
       "      <td>No</td>\n",
       "      <td>No</td>\n",
       "      <td>Not Applicable</td>\n",
       "      <td>Strongly Agree</td>\n",
       "      <td>...</td>\n",
       "      <td>Neither Agree nor Disagree</td>\n",
       "      <td>Somewhat Disagree</td>\n",
       "      <td>Agree</td>\n",
       "      <td>Strongly Agree</td>\n",
       "      <td>Strongly Agree</td>\n",
       "      <td>Disagree</td>\n",
       "      <td>Agree</td>\n",
       "      <td>Agree</td>\n",
       "      <td>Strongly Agree</td>\n",
       "      <td>Strongly Agree</td>\n",
       "    </tr>\n",
       "    <tr>\n",
       "      <th>228</th>\n",
       "      <td>Female</td>\n",
       "      <td>18-28</td>\n",
       "      <td>Secondary School</td>\n",
       "      <td>Accra</td>\n",
       "      <td>Ghana</td>\n",
       "      <td>Yes</td>\n",
       "      <td>No</td>\n",
       "      <td>No</td>\n",
       "      <td>Not Applicable</td>\n",
       "      <td>Somewhat Agree</td>\n",
       "      <td>...</td>\n",
       "      <td>Agree</td>\n",
       "      <td>Somewhat Agree</td>\n",
       "      <td>Strongly Agree</td>\n",
       "      <td>Agree</td>\n",
       "      <td>Agree</td>\n",
       "      <td>Disagree</td>\n",
       "      <td>Strongly Agree</td>\n",
       "      <td>Strongly Agree</td>\n",
       "      <td>Agree</td>\n",
       "      <td>Agree</td>\n",
       "    </tr>\n",
       "    <tr>\n",
       "      <th>229</th>\n",
       "      <td>Male</td>\n",
       "      <td>40-50</td>\n",
       "      <td>Bachelor's Degree</td>\n",
       "      <td>Accra</td>\n",
       "      <td>Ghana</td>\n",
       "      <td>Yes</td>\n",
       "      <td>No</td>\n",
       "      <td>No</td>\n",
       "      <td>Not Applicable</td>\n",
       "      <td>Somewhat Agree</td>\n",
       "      <td>...</td>\n",
       "      <td>Somewhat Agree</td>\n",
       "      <td>Agree</td>\n",
       "      <td>Strongly Agree</td>\n",
       "      <td>Strongly Agree</td>\n",
       "      <td>Strongly Agree</td>\n",
       "      <td>Somewhat Disagree</td>\n",
       "      <td>Strongly Agree</td>\n",
       "      <td>Strongly Agree</td>\n",
       "      <td>Agree</td>\n",
       "      <td>Agree</td>\n",
       "    </tr>\n",
       "  </tbody>\n",
       "</table>\n",
       "<p>230 rows × 25 columns</p>\n",
       "</div>"
      ],
      "text/plain": [
       "     Gender Age_Range                 Education_Level           Location  \\\n",
       "0      Male     51-61       Master's Degree or Higher           Shanghai   \n",
       "1      Male     29-39               Bachelor's Degree  Guangzhou, china    \n",
       "2      Male     29-39               Bachelor's Degree             China    \n",
       "3      Male     29-39       Master's Degree or Higher           Shanghai   \n",
       "4    Female     29-39               Bachelor's Degree              chIna   \n",
       "..      ...       ...                             ...                ...   \n",
       "225    Male     18-28               Secondary School               Accra   \n",
       "226  Female     18-28               Secondary School             Kumasi    \n",
       "227    Male     29-39  College or Vocational Training              Accra   \n",
       "228  Female     18-28               Secondary School               Accra   \n",
       "229    Male     40-50               Bachelor's Degree              Accra   \n",
       "\n",
       "    Country Heard_of_EC Someone_Owns Self_Own_EC Satisfied_Experience  \\\n",
       "0     China         Yes          Yes         Yes      Very Satisfied    \n",
       "1     China         Yes          Yes          No       Not Applicable   \n",
       "2     China         Yes          Yes          No       Not Applicable   \n",
       "3     China         Yes          Yes          No       Not Applicable   \n",
       "4     China         Yes          Yes         Yes            Satisfied   \n",
       "..      ...         ...          ...         ...                  ...   \n",
       "225   Ghana         Yes           No          No       Not Applicable   \n",
       "226   Ghana         Yes           No          No       Not Applicable   \n",
       "227   Ghana         Yes           No          No       Not Applicable   \n",
       "228   Ghana         Yes           No          No       Not Applicable   \n",
       "229   Ghana         Yes           No          No       Not Applicable   \n",
       "\n",
       "           Displace_Normal_Cars  ... Consider_Government_Incentives  \\\n",
       "0                         Agree  ...                 Somewhat Agree   \n",
       "1                Strongly Agree  ...                 Strongly Agree   \n",
       "2                Somewhat Agree  ...                          Agree   \n",
       "3    Neither Agree nor Disagree  ...                          Agree   \n",
       "4                Strongly Agree  ...                 Strongly Agree   \n",
       "..                          ...  ...                            ...   \n",
       "225                       Agree  ...                          Agree   \n",
       "226              Somewhat Agree  ...                 Strongly Agree   \n",
       "227              Strongly Agree  ...     Neither Agree nor Disagree   \n",
       "228              Somewhat Agree  ...                          Agree   \n",
       "229              Somewhat Agree  ...                 Somewhat Agree   \n",
       "\n",
       "                 Consider_Model Consider_Charging_Time  \\\n",
       "0    Neither Agree nor Disagree         Strongly Agree   \n",
       "1                         Agree                  Agree   \n",
       "2                         Agree                  Agree   \n",
       "3                Strongly Agree         Somewhat Agree   \n",
       "4                         Agree                  Agree   \n",
       "..                          ...                    ...   \n",
       "225                       Agree                  Agree   \n",
       "226                       Agree         Strongly Agree   \n",
       "227           Somewhat Disagree                  Agree   \n",
       "228              Somewhat Agree         Strongly Agree   \n",
       "229                       Agree         Strongly Agree   \n",
       "\n",
       "    Reduction_Greenhouse_Positive Reduction_Fossil_Positive  \\\n",
       "0                           Agree            Somewhat Agree   \n",
       "1                           Agree                     Agree   \n",
       "2                           Agree                     Agree   \n",
       "3      Neither Agree nor Disagree         Strongly Disagree   \n",
       "4                           Agree                     Agree   \n",
       "..                            ...                       ...   \n",
       "225                         Agree                     Agree   \n",
       "226                Strongly Agree            Strongly Agree   \n",
       "227                Strongly Agree            Strongly Agree   \n",
       "228                         Agree                     Agree   \n",
       "229                Strongly Agree            Strongly Agree   \n",
       "\n",
       "    Lower_Cost_Positive Range_Charging_Barrier        Upfront_Cost_Barrier  \\\n",
       "0                 Agree         Strongly Agree              Somewhat Agree   \n",
       "1                 Agree                  Agree                    Disagree   \n",
       "2                 Agree                  Agree                    Disagree   \n",
       "3     Strongly Disagree      Strongly Disagree  Neither Agree nor Disagree   \n",
       "4                 Agree                  Agree                       Agree   \n",
       "..                  ...                    ...                         ...   \n",
       "225               Agree                  Agree                       Agree   \n",
       "226   Somewhat Disagree         Strongly Agree              Strongly Agree   \n",
       "227            Disagree                  Agree                       Agree   \n",
       "228            Disagree         Strongly Agree              Strongly Agree   \n",
       "229   Somewhat Disagree         Strongly Agree              Strongly Agree   \n",
       "\n",
       "    Gov_Offer_Incentives           Gov_Set_Emissions  \n",
       "0         Strongly Agree                    Disagree  \n",
       "1                  Agree                    Disagree  \n",
       "2               Disagree                       Agree  \n",
       "3         Strongly Agree  Neither Agree nor Disagree  \n",
       "4                  Agree                       Agree  \n",
       "..                   ...                         ...  \n",
       "225                Agree              Somewhat Agree  \n",
       "226                Agree                       Agree  \n",
       "227       Strongly Agree              Strongly Agree  \n",
       "228                Agree                       Agree  \n",
       "229                Agree                       Agree  \n",
       "\n",
       "[230 rows x 25 columns]"
      ]
     },
     "execution_count": 3,
     "metadata": {},
     "output_type": "execute_result"
    }
   ],
   "source": [
    "# Load the dataset from the CSV file\n",
    "df = pd.read_csv(r\"D:\\UoS Applied Data Science\\PROM02\\Dataset\\new\\electric1.csv\")\n",
    "\n",
    "# Display the first and last five rows of the dataset to verify the data and the columns\n",
    "df"
   ]
  },
  {
   "cell_type": "code",
   "execution_count": 4,
   "id": "80b2c527-66a8-47ce-908c-137bd24ad9bd",
   "metadata": {},
   "outputs": [
    {
     "name": "stdout",
     "output_type": "stream",
     "text": [
      "Index(['Gender', 'Age_Range', 'Education_Level', 'Location', 'Country',\n",
      "       'Heard_of_EC', 'Someone_Owns', 'Self_Own_EC', 'Satisfied_Experience',\n",
      "       'Displace_Normal_Cars', 'Recommend_EC', 'Consider_Environment',\n",
      "       'Consider_Cost', 'Consider_Range', 'Consider_Charging Infrastructure',\n",
      "       'Consider_Government_Incentives', 'Consider_Model',\n",
      "       'Consider_Charging_Time', 'Reduction_Greenhouse_Positive',\n",
      "       'Reduction_Fossil_Positive', 'Lower_Cost_Positive',\n",
      "       'Range_Charging_Barrier', 'Upfront_Cost_Barrier',\n",
      "       'Gov_Offer_Incentives', 'Gov_Set_Emissions'],\n",
      "      dtype='object')\n"
     ]
    }
   ],
   "source": [
    "print(df.columns)"
   ]
  },
  {
   "cell_type": "code",
   "execution_count": 5,
   "id": "992ff9cb-6e58-49fc-8f81-d20cc4245397",
   "metadata": {},
   "outputs": [
    {
     "data": {
      "text/plain": [
       "0                  Agree\n",
       "1         Strongly Agree\n",
       "2         Somewhat Agree\n",
       "3         Strongly Agree\n",
       "4                  Agree\n",
       "             ...        \n",
       "225    Somewhat Disagree\n",
       "226             Disagree\n",
       "227    Somewhat Disagree\n",
       "228             Disagree\n",
       "229    Somewhat Disagree\n",
       "Name: Consider_Environment, Length: 230, dtype: object"
      ]
     },
     "execution_count": 5,
     "metadata": {},
     "output_type": "execute_result"
    }
   ],
   "source": [
    "df[\"Consider_Environment\"]"
   ]
  },
  {
   "cell_type": "code",
   "execution_count": 6,
   "id": "db891019-ded1-456b-83ed-10aa1bc99486",
   "metadata": {},
   "outputs": [],
   "source": [
    "# Encoding scheme for \"Consider\" variables\n",
    "consider_encoding_map = {\n",
    "    \"Strongly Agree\": 6,\n",
    "    \"Agree\": 5,\n",
    "    \"Somewhat Agree\": 4,\n",
    "    \"Neither Agree nor Disagree\": 3,  \n",
    "    \"Disagree\": 2,\n",
    "    \"Somewhat Disagree\": 1,\n",
    "    \"Strongly Disagree\": 0\n",
    "}\n",
    "\n",
    "\n",
    "# Encode the \"Consider\" variables with the scheme\n",
    "df[\"Consider_Environment_Encoded\"] = df[\"Consider_Environment\"].map(consider_encoding_map)\n",
    "df[\"Consider_Range_Encoded\"] = df[\"Consider_Range\"].map(consider_encoding_map)\n",
    "df[\"Consider_Charging_Infrastructure_Encoded\"] = df[\"Consider_Charging Infrastructure\"].map(consider_encoding_map)\n",
    "\n"
   ]
  },
  {
   "cell_type": "code",
   "execution_count": 7,
   "id": "618dc53b-0369-43b0-afff-6c99765dd2ba",
   "metadata": {},
   "outputs": [
    {
     "data": {
      "text/plain": [
       "0      5\n",
       "1      6\n",
       "2      4\n",
       "3      6\n",
       "4      5\n",
       "      ..\n",
       "225    1\n",
       "226    2\n",
       "227    1\n",
       "228    2\n",
       "229    1\n",
       "Name: Consider_Environment_Encoded, Length: 230, dtype: int64"
      ]
     },
     "execution_count": 7,
     "metadata": {},
     "output_type": "execute_result"
    }
   ],
   "source": [
    "df[\"Consider_Environment_Encoded\"]"
   ]
  },
  {
   "cell_type": "code",
   "execution_count": 8,
   "id": "42d0ebf2-1da1-4199-a67e-9b72c3045403",
   "metadata": {},
   "outputs": [
    {
     "data": {
      "text/plain": [
       "array(['Likely', 'Somewhat Likely', 'Somewhat Unlikely',\n",
       "       'Neither Likely nor Unlikely', 'Very Likely', 'Unlikely',\n",
       "       'Very Unlikely'], dtype=object)"
      ]
     },
     "execution_count": 8,
     "metadata": {},
     "output_type": "execute_result"
    }
   ],
   "source": [
    "# Inspect unique values of \"Recommend_EC\" before encoding\n",
    "df[\"Recommend_EC\"].unique()"
   ]
  },
  {
   "cell_type": "code",
   "execution_count": 9,
   "id": "f431189a-be2d-408e-a6c8-c59347043bf8",
   "metadata": {},
   "outputs": [],
   "source": [
    "# Encoding \"Recommend_EC\" with a binary scheme\n",
    "recommend_ec_encoding_map = {\n",
    "    \"Very Likely\": 1,\n",
    "    \"Likely\": 1,\n",
    "    \"Somewhat Likely\": 1,\n",
    "    \"Neither Likely nor Unlikely\": 0,\n",
    "    \"Somewhat Unlikely\": 0,\n",
    "    \"Unlikely\": 0,\n",
    "    \"Very Unlikely\": 0\n",
    "}\n",
    "\n",
    "df[\"Recommend_EC_Encoded\"] = df[\"Recommend_EC\"].map(recommend_ec_encoding_map)\n",
    "\n"
   ]
  },
  {
   "cell_type": "code",
   "execution_count": 10,
   "id": "17b9667e-49a8-482c-a11e-59445c62a985",
   "metadata": {},
   "outputs": [
    {
     "data": {
      "text/plain": [
       "0      1\n",
       "1      1\n",
       "2      1\n",
       "3      1\n",
       "4      1\n",
       "      ..\n",
       "225    0\n",
       "226    0\n",
       "227    0\n",
       "228    0\n",
       "229    0\n",
       "Name: Recommend_EC_Encoded, Length: 230, dtype: int64"
      ]
     },
     "execution_count": 10,
     "metadata": {},
     "output_type": "execute_result"
    }
   ],
   "source": [
    "df[\"Recommend_EC_Encoded\"]"
   ]
  },
  {
   "cell_type": "code",
   "execution_count": 11,
   "id": "4ba98945-f140-4419-9ba3-4247c6257bff",
   "metadata": {},
   "outputs": [],
   "source": [
    "# Prepare the feature [independent] variables (X) and the target [dependent] variable (y) for the model\n",
    "X = df[[\"Consider_Environment_Encoded\", \"Consider_Range_Encoded\", \"Consider_Charging_Infrastructure_Encoded\"]]\n",
    "y = df[\"Recommend_EC_Encoded\"]"
   ]
  },
  {
   "cell_type": "code",
   "execution_count": 12,
   "id": "5afa2d37-9d0c-4ef5-96cf-3d847dbde963",
   "metadata": {},
   "outputs": [
    {
     "data": {
      "text/plain": [
       "(   Consider_Environment_Encoded  Consider_Range_Encoded  \\\n",
       " 0                             5                       5   \n",
       " 1                             6                       6   \n",
       " 2                             4                       1   \n",
       " 3                             6                       6   \n",
       " 4                             5                       5   \n",
       " \n",
       "    Consider_Charging_Infrastructure_Encoded  \n",
       " 0                                         1  \n",
       " 1                                         5  \n",
       " 2                                         5  \n",
       " 3                                         6  \n",
       " 4                                         5  ,\n",
       " 0    1\n",
       " 1    1\n",
       " 2    1\n",
       " 3    1\n",
       " 4    1\n",
       " Name: Recommend_EC_Encoded, dtype: int64)"
      ]
     },
     "execution_count": 12,
     "metadata": {},
     "output_type": "execute_result"
    }
   ],
   "source": [
    "# Display the encoded variables to verify the encoding process\n",
    "X.head(), y.head()"
   ]
  },
  {
   "cell_type": "code",
   "execution_count": 13,
   "id": "16893245-b4be-4c1d-ba5e-1679dbe26d58",
   "metadata": {},
   "outputs": [],
   "source": [
    "from sklearn.model_selection import train_test_split\n",
    "from sklearn.linear_model import LogisticRegression\n",
    "from sklearn.metrics import accuracy_score, classification_report"
   ]
  },
  {
   "cell_type": "code",
   "execution_count": 14,
   "id": "026f56ff-aeb9-476a-a18a-a833e7f20a56",
   "metadata": {},
   "outputs": [],
   "source": [
    "# Splitting the data into training and testing sets\n",
    "X_train, X_test, y_train, y_test = train_test_split(X, y, test_size=0.2, random_state=42)"
   ]
  },
  {
   "cell_type": "code",
   "execution_count": 15,
   "id": "4d3a1f36-ce08-41f0-8563-e5309b1505d2",
   "metadata": {},
   "outputs": [],
   "source": [
    "# Creating the logistic regression model\n",
    "logistic_model = LogisticRegression()"
   ]
  },
  {
   "cell_type": "code",
   "execution_count": 16,
   "id": "d082edf4-de20-4932-b947-efb6457a896a",
   "metadata": {},
   "outputs": [
    {
     "data": {
      "text/html": [
       "<style>#sk-container-id-1 {color: black;background-color: white;}#sk-container-id-1 pre{padding: 0;}#sk-container-id-1 div.sk-toggleable {background-color: white;}#sk-container-id-1 label.sk-toggleable__label {cursor: pointer;display: block;width: 100%;margin-bottom: 0;padding: 0.3em;box-sizing: border-box;text-align: center;}#sk-container-id-1 label.sk-toggleable__label-arrow:before {content: \"▸\";float: left;margin-right: 0.25em;color: #696969;}#sk-container-id-1 label.sk-toggleable__label-arrow:hover:before {color: black;}#sk-container-id-1 div.sk-estimator:hover label.sk-toggleable__label-arrow:before {color: black;}#sk-container-id-1 div.sk-toggleable__content {max-height: 0;max-width: 0;overflow: hidden;text-align: left;background-color: #f0f8ff;}#sk-container-id-1 div.sk-toggleable__content pre {margin: 0.2em;color: black;border-radius: 0.25em;background-color: #f0f8ff;}#sk-container-id-1 input.sk-toggleable__control:checked~div.sk-toggleable__content {max-height: 200px;max-width: 100%;overflow: auto;}#sk-container-id-1 input.sk-toggleable__control:checked~label.sk-toggleable__label-arrow:before {content: \"▾\";}#sk-container-id-1 div.sk-estimator input.sk-toggleable__control:checked~label.sk-toggleable__label {background-color: #d4ebff;}#sk-container-id-1 div.sk-label input.sk-toggleable__control:checked~label.sk-toggleable__label {background-color: #d4ebff;}#sk-container-id-1 input.sk-hidden--visually {border: 0;clip: rect(1px 1px 1px 1px);clip: rect(1px, 1px, 1px, 1px);height: 1px;margin: -1px;overflow: hidden;padding: 0;position: absolute;width: 1px;}#sk-container-id-1 div.sk-estimator {font-family: monospace;background-color: #f0f8ff;border: 1px dotted black;border-radius: 0.25em;box-sizing: border-box;margin-bottom: 0.5em;}#sk-container-id-1 div.sk-estimator:hover {background-color: #d4ebff;}#sk-container-id-1 div.sk-parallel-item::after {content: \"\";width: 100%;border-bottom: 1px solid gray;flex-grow: 1;}#sk-container-id-1 div.sk-label:hover label.sk-toggleable__label {background-color: #d4ebff;}#sk-container-id-1 div.sk-serial::before {content: \"\";position: absolute;border-left: 1px solid gray;box-sizing: border-box;top: 0;bottom: 0;left: 50%;z-index: 0;}#sk-container-id-1 div.sk-serial {display: flex;flex-direction: column;align-items: center;background-color: white;padding-right: 0.2em;padding-left: 0.2em;position: relative;}#sk-container-id-1 div.sk-item {position: relative;z-index: 1;}#sk-container-id-1 div.sk-parallel {display: flex;align-items: stretch;justify-content: center;background-color: white;position: relative;}#sk-container-id-1 div.sk-item::before, #sk-container-id-1 div.sk-parallel-item::before {content: \"\";position: absolute;border-left: 1px solid gray;box-sizing: border-box;top: 0;bottom: 0;left: 50%;z-index: -1;}#sk-container-id-1 div.sk-parallel-item {display: flex;flex-direction: column;z-index: 1;position: relative;background-color: white;}#sk-container-id-1 div.sk-parallel-item:first-child::after {align-self: flex-end;width: 50%;}#sk-container-id-1 div.sk-parallel-item:last-child::after {align-self: flex-start;width: 50%;}#sk-container-id-1 div.sk-parallel-item:only-child::after {width: 0;}#sk-container-id-1 div.sk-dashed-wrapped {border: 1px dashed gray;margin: 0 0.4em 0.5em 0.4em;box-sizing: border-box;padding-bottom: 0.4em;background-color: white;}#sk-container-id-1 div.sk-label label {font-family: monospace;font-weight: bold;display: inline-block;line-height: 1.2em;}#sk-container-id-1 div.sk-label-container {text-align: center;}#sk-container-id-1 div.sk-container {/* jupyter's `normalize.less` sets `[hidden] { display: none; }` but bootstrap.min.css set `[hidden] { display: none !important; }` so we also need the `!important` here to be able to override the default hidden behavior on the sphinx rendered scikit-learn.org. See: https://github.com/scikit-learn/scikit-learn/issues/21755 */display: inline-block !important;position: relative;}#sk-container-id-1 div.sk-text-repr-fallback {display: none;}</style><div id=\"sk-container-id-1\" class=\"sk-top-container\"><div class=\"sk-text-repr-fallback\"><pre>LogisticRegression()</pre><b>In a Jupyter environment, please rerun this cell to show the HTML representation or trust the notebook. <br />On GitHub, the HTML representation is unable to render, please try loading this page with nbviewer.org.</b></div><div class=\"sk-container\" hidden><div class=\"sk-item\"><div class=\"sk-estimator sk-toggleable\"><input class=\"sk-toggleable__control sk-hidden--visually\" id=\"sk-estimator-id-1\" type=\"checkbox\" checked><label for=\"sk-estimator-id-1\" class=\"sk-toggleable__label sk-toggleable__label-arrow\">LogisticRegression</label><div class=\"sk-toggleable__content\"><pre>LogisticRegression()</pre></div></div></div></div></div>"
      ],
      "text/plain": [
       "LogisticRegression()"
      ]
     },
     "execution_count": 16,
     "metadata": {},
     "output_type": "execute_result"
    }
   ],
   "source": [
    "# Training the model\n",
    "logistic_model.fit(X_train, y_train)"
   ]
  },
  {
   "cell_type": "code",
   "execution_count": 17,
   "id": "eaf26e92-6e34-451c-be5d-c3a583206e37",
   "metadata": {},
   "outputs": [],
   "source": [
    "# Making predictions on the test set\n",
    "y_pred = logistic_model.predict(X_test)"
   ]
  },
  {
   "cell_type": "code",
   "execution_count": 18,
   "id": "9017ab12-af39-4b46-b31e-2d8c39c5503d",
   "metadata": {},
   "outputs": [
    {
     "data": {
      "text/plain": [
       "(0.782608695652174,\n",
       " '              precision    recall  f1-score   support\\n\\n           0       1.00      0.33      0.50        15\\n           1       0.76      1.00      0.86        31\\n\\n    accuracy                           0.78        46\\n   macro avg       0.88      0.67      0.68        46\\nweighted avg       0.84      0.78      0.74        46\\n')"
      ]
     },
     "execution_count": 18,
     "metadata": {},
     "output_type": "execute_result"
    }
   ],
   "source": [
    "# Evaluating the model\n",
    "accuracy = accuracy_score(y_test, y_pred)\n",
    "class_report = classification_report(y_test, y_pred)\n",
    "\n",
    "accuracy, class_report"
   ]
  },
  {
   "cell_type": "code",
   "execution_count": 19,
   "id": "3f5ebadd-f4a1-4fbb-8753-e03dd0778869",
   "metadata": {},
   "outputs": [
    {
     "name": "stdout",
     "output_type": "stream",
     "text": [
      "Intercept: [-5.45284207]\n",
      "Coefficients: [[ 1.37402748 -0.11189086  0.35264741]]\n"
     ]
    }
   ],
   "source": [
    "# Printing the coefficients of the model\n",
    "print('Intercept:', logistic_model.intercept_)\n",
    "print('Coefficients:', logistic_model.coef_)"
   ]
  },
  {
   "cell_type": "code",
   "execution_count": 26,
   "id": "11f76136-db24-444d-93b5-a4a6dd1905e5",
   "metadata": {},
   "outputs": [],
   "source": [
    "# Data Visualiztion of the predictor variables in the model"
   ]
  },
  {
   "cell_type": "code",
   "execution_count": 20,
   "id": "c44b6bf5-a9be-4156-bb9d-d839d796d2db",
   "metadata": {},
   "outputs": [],
   "source": [
    "import matplotlib.pyplot as plt\n",
    "import numpy as np"
   ]
  },
  {
   "cell_type": "code",
   "execution_count": 21,
   "id": "bb190e02-9c80-44eb-90a8-f19461570242",
   "metadata": {},
   "outputs": [],
   "source": [
    "# The coefficients of predictor variables\n",
    "coefficients = np.array([1.37402748, -0.11189086, 0.35264741])\n",
    "variables = ['Consider_Environment', 'Consider_Range', 'Consider_Charging_Infrastructure']"
   ]
  },
  {
   "cell_type": "code",
   "execution_count": 27,
   "id": "a7e5c30a-ccb2-4df2-ba73-52ed7436a9ab",
   "metadata": {},
   "outputs": [
    {
     "data": {
      "image/png": "[encoded data removed]",
      "text/plain": [
       "<Figure size 1000x600 with 1 Axes>"
      ]
     },
     "metadata": {},
     "output_type": "display_data"
    }
   ],
   "source": [
    "# Plotting the coefficients\n",
    "plt.figure(figsize=(10, 6))\n",
    "plt.bar(variables, coefficients, color='skyblue')\n",
    "plt.xlabel('Variables')\n",
    "plt.ylabel('Coefficient Value')\n",
    "plt.title('Logistic Regression Coefficients')\n",
    "\n",
    "# Show the plot\n",
    "plt.show()"
   ]
  },
  {
   "cell_type": "code",
   "execution_count": null,
   "id": "24dfdb90-da82-4fed-8ff2-a55e61be1847",
   "metadata": {},
   "outputs": [],
   "source": []
  },
  {
   "cell_type": "code",
   "execution_count": 29,
   "id": "e72713b0-b7c4-435c-b9d6-1ddd8e7e8ddc",
   "metadata": {},
   "outputs": [
    {
     "data": {
      "image/png": "[encoded data removed]",
      "text/plain": [
       "<Figure size 1000x600 with 1 Axes>"
      ]
     },
     "metadata": {},
     "output_type": "display_data"
    }
   ],
   "source": [
    "# Plotting the coefficients\n",
    "plt.figure(figsize=(10, 6))\n",
    "plt.bar(variables, coefficients, color='skyblue')\n",
    "plt.xlabel('Variables')\n",
    "plt.ylabel('Coefficient Value')\n",
    "plt.title('Logistic Regression Coefficients')\n",
    "\n",
    "\n",
    "# Adding the intercept to the plot\n",
    "plt.axhline(intercept, color='red', linewidth=2, linestyle='--')\n",
    "plt.text(len(coefficients), intercept, f'Intercept: {intercept:.2f}', color='red', va='center')\n",
    "\n",
    "# Show the plot\n",
    "plt.show()"
   ]
  },
  {
   "cell_type": "code",
   "execution_count": null,
   "id": "c3de99ab-7ca9-4997-8da7-342495b8a2d7",
   "metadata": {},
   "outputs": [],
   "source": []
  },
  {
   "cell_type": "code",
   "execution_count": null,
   "id": "5f169be9-4cbc-404a-bbdb-c6dcefa19099",
   "metadata": {},
   "outputs": [],
   "source": []
  }
 ],
 "metadata": {
  "kernelspec": {
   "display_name": "Python 3 (ipykernel)",
   "language": "python",
   "name": "python3"
  },
  "language_info": {
   "codemirror_mode": {
    "name": "ipython",
    "version": 3
   },
   "file_extension": ".py",
   "mimetype": "text/x-python",
   "name": "python",
   "nbconvert_exporter": "python",
   "pygments_lexer": "ipython3",
   "version": "3.11.7"
  }
 },
 "nbformat": 4,
 "nbformat_minor": 5
}
